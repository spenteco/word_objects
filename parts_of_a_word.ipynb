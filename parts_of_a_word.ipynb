{
 "cells": [
  {
   "cell_type": "code",
   "execution_count": 1,
   "metadata": {},
   "outputs": [
    {
     "name": "stdout",
     "output_type": "stream",
     "text": [
      "42084\n"
     ]
    }
   ],
   "source": [
    "import json\n",
    "\n",
    "word_dictionary = json.loads(open('Zane_Grey.json', 'r', encoding='utf-8').read())\n",
    "\n",
    "print(len(word_dictionary))"
   ]
  },
  {
   "cell_type": "code",
   "execution_count": 29,
   "metadata": {},
   "outputs": [
    {
     "name": "stdout",
     "output_type": "stream",
     "text": [
      "\n",
      "to/ADP to ADP ['T UW1']\n",
      "\n",
      "the/DET the DET ['DH AH0']\n",
      "\n",
      "last/ADJ last ADJ ['L AE1 S T']\n",
      "\n",
      "man/NOUN man NOUN ['M AE1 N']\n",
      "\n",
      "by/ADP by ADP ['B AY1']\n",
      "\n",
      "zane/PROPN zane PROPN ['Z EY1 N']\n",
      "\n",
      "grey/PROPN grey PROPN ['G R EY1']\n",
      "\n",
      "foreword/PROPN foreword PROPN ['F AO1 R', 'W ER2 D']\n",
      "\n",
      "it/PRON it PRON ['IH1 T']\n",
      "\n",
      "was/AUX was AUX ['W AA1 Z']\n",
      "\n",
      "inevitable/ADJ inevitable ADJ ['IH2', 'N EH1', 'V AH0', 'T AH0', 'B AH0 L']\n"
     ]
    }
   ],
   "source": [
    "import cmudict\n",
    "from syllabify import *\n",
    "\n",
    "cmu = cmudict.dict()\n",
    "\n",
    "n_printed = 0\n",
    "for word_pos, n_occurrences in word_dictionary.items():\n",
    "        \n",
    "    word = word_pos.split('/')[0]\n",
    "    pos = word_pos.split('/')[-1]\n",
    "    \n",
    "    arpabet = cmu.get(word)\n",
    "    \n",
    "    if arpabet != None:\n",
    "        \n",
    "        syllables = syllabify(arpabet[0])\n",
    "        \n",
    "        s_syllables = []\n",
    "        for s in syllables:\n",
    "            s_string = []\n",
    "            for v in s:\n",
    "                s_string.append(' '.join(v))\n",
    "            s_string = ' '.join(s_string).strip()\n",
    "            s_syllables.append(s_string)\n",
    "        \n",
    "        print()\n",
    "        print(word_pos, word, pos, s_syllables)\n",
    "        \n",
    "        n_printed += 1\n",
    "        if n_printed > 10:\n",
    "            break"
   ]
  },
  {
   "cell_type": "code",
   "execution_count": null,
   "metadata": {},
   "outputs": [],
   "source": []
  }
 ],
 "metadata": {
  "kernelspec": {
   "display_name": "Python 3",
   "language": "python",
   "name": "python3"
  },
  "language_info": {
   "codemirror_mode": {
    "name": "ipython",
    "version": 3
   },
   "file_extension": ".py",
   "mimetype": "text/x-python",
   "name": "python",
   "nbconvert_exporter": "python",
   "pygments_lexer": "ipython3",
   "version": "3.7.4"
  }
 },
 "nbformat": 4,
 "nbformat_minor": 2
}
