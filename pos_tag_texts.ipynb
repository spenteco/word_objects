{
 "cells": [
  {
   "cell_type": "code",
   "execution_count": 1,
   "metadata": {},
   "outputs": [],
   "source": [
    "import spacy\n",
    "\n",
    "nlp = spacy.load(\"en_core_web_sm\")"
   ]
  },
  {
   "cell_type": "code",
   "execution_count": 5,
   "metadata": {},
   "outputs": [
    {
     "name": "stdout",
     "output_type": "stream",
     "text": [
      "/home/spenteco/0/Gutenberg_Literary_Corpus/txt/Zane Grey___To the Last Man.txt\n",
      "/home/spenteco/0/Gutenberg_Literary_Corpus/txt/Zane Grey___The Man of the Forest.txt\n",
      "/home/spenteco/0/Gutenberg_Literary_Corpus/txt/Zane Grey___Wildfire.txt\n",
      "/home/spenteco/0/Gutenberg_Literary_Corpus/txt/Zane Grey___The Heritage of the Desert.txt\n",
      "/home/spenteco/0/Gutenberg_Literary_Corpus/txt/Zane Grey___Riders of the Purple Sage.txt\n",
      "/home/spenteco/0/Gutenberg_Literary_Corpus/txt/Zane Grey___The Mysterious Rider.txt\n",
      "/home/spenteco/0/Gutenberg_Literary_Corpus/txt/Zane Grey___The Lone Star Ranger.txt\n",
      "/home/spenteco/0/Gutenberg_Literary_Corpus/txt/Zane Grey___The Rustlers of Pecos County.txt\n",
      "/home/spenteco/0/Gutenberg_Literary_Corpus/txt/Zane Grey___The Last Trail.txt\n",
      "/home/spenteco/0/Gutenberg_Literary_Corpus/txt/Zane Grey___The Young Forester.txt\n",
      "/home/spenteco/0/Gutenberg_Literary_Corpus/txt/Zane Grey___Valley of Wild Horses.txt\n",
      "/home/spenteco/0/Gutenberg_Literary_Corpus/txt/Zane Grey___The Young Pitcher.txt\n",
      "/home/spenteco/0/Gutenberg_Literary_Corpus/txt/Zane Grey___The Redheaded Outfield and Other Baseball Stories.txt\n",
      "/home/spenteco/0/Gutenberg_Literary_Corpus/txt/Zane Grey___Desert Gold.txt\n",
      "/home/spenteco/0/Gutenberg_Literary_Corpus/txt/Zane Grey___The Last of the Plainsmen.txt\n",
      "/home/spenteco/0/Gutenberg_Literary_Corpus/txt/Zane Grey___The Rainbow Trail.txt\n",
      "/home/spenteco/0/Gutenberg_Literary_Corpus/txt/Zane Grey___Betty Zane.txt\n",
      "/home/spenteco/0/Gutenberg_Literary_Corpus/txt/Zane Grey___The Border Legion.txt\n",
      "/home/spenteco/0/Gutenberg_Literary_Corpus/txt/Zane Grey___The Desert of Wheat.txt\n",
      "/home/spenteco/0/Gutenberg_Literary_Corpus/txt/Zane Grey___The Call of the Canyon.txt\n",
      "/home/spenteco/0/Gutenberg_Literary_Corpus/txt/Zane Grey___The Day of the Beast.txt\n",
      "/home/spenteco/0/Gutenberg_Literary_Corpus/txt/Zane Grey___The Light of Western Stars.txt\n",
      "/home/spenteco/0/Gutenberg_Literary_Corpus/txt/Zane Grey___The U.P. Trail.txt\n",
      "/home/spenteco/0/Gutenberg_Literary_Corpus/txt/Zane Grey___Tales of Fishes.txt\n",
      "/home/spenteco/0/Gutenberg_Literary_Corpus/txt/Zane Grey___Tales of lonely trails.txt\n",
      "/home/spenteco/0/Gutenberg_Literary_Corpus/txt/Zane Grey___The Spirit of the Border.txt\n",
      "42084\n",
      "ok\n"
     ]
    }
   ],
   "source": [
    "import glob, json\n",
    "\n",
    "text_dictionary = {}\n",
    "\n",
    "TARGET_AUTHOR = 'Zane Grey'\n",
    "\n",
    "for p in glob.glob('/home/spenteco/0/Gutenberg_Literary_Corpus/txt/*.txt'):\n",
    "    \n",
    "    file_name = p.split('/')[-1]\n",
    "    author = file_name.split('_')[0]\n",
    "    \n",
    "    if author != TARGET_AUTHOR:\n",
    "        continue\n",
    "    \n",
    "    print(p)\n",
    "    \n",
    "    text = open(p, 'r', encoding='utf-8').read()\n",
    "            \n",
    "    doc = nlp(text)\n",
    "    \n",
    "    for t in doc:\n",
    "        \n",
    "        if t.pos_ not in ['SPACE', 'PUNCT']:\n",
    "        \n",
    "            if t.text.lower() + '/' + t.pos_ not in text_dictionary:\n",
    "                text_dictionary[t.text.lower() + '/' + t.pos_] = 0\n",
    "            text_dictionary[t.text.lower() + '/' + t.pos_] += 1\n",
    "            \n",
    "print(len(text_dictionary))\n",
    "    \n",
    "f = open(TARGET_AUTHOR.replace(' ', '_') + '.json', 'w', encoding='utf-8')\n",
    "f.write(json.dumps(text_dictionary, indent=4))\n",
    "f.close()\n",
    "\n",
    "print('ok')"
   ]
  },
  {
   "cell_type": "code",
   "execution_count": null,
   "metadata": {},
   "outputs": [],
   "source": []
  }
 ],
 "metadata": {
  "kernelspec": {
   "display_name": "Python 3",
   "language": "python",
   "name": "python3"
  },
  "language_info": {
   "codemirror_mode": {
    "name": "ipython",
    "version": 3
   },
   "file_extension": ".py",
   "mimetype": "text/x-python",
   "name": "python",
   "nbconvert_exporter": "python",
   "pygments_lexer": "ipython3",
   "version": "3.7.4"
  }
 },
 "nbformat": 4,
 "nbformat_minor": 2
}
